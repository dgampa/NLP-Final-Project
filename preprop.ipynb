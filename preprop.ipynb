{
 "cells": [
  {
   "cell_type": "code",
   "execution_count": 2,
   "metadata": {},
   "outputs": [
    {
     "name": "stdout",
     "output_type": "stream",
     "text": [
      "    _unit_id  _golden _unit_state  _trusted_judgments _last_judgment_at  \\\n",
      "0  842613455    False   finalized                   3     12/5/15 17:48   \n",
      "1  842613456    False   finalized                   3     12/5/15 16:54   \n",
      "2  842613457    False   finalized                   3      12/5/15 1:59   \n",
      "3  842613458    False   finalized                   3      12/5/15 2:19   \n",
      "4  842613459    False   finalized                   3     12/5/15 17:48   \n",
      "\n",
      "   positivity  positivity:confidence relevance  relevance:confidence  \\\n",
      "0         3.0                 0.6400       yes                 0.640   \n",
      "1         NaN                    NaN        no                 1.000   \n",
      "2         NaN                    NaN        no                 1.000   \n",
      "3         NaN                 0.0000        no                 0.675   \n",
      "4         3.0                 0.3257       yes                 0.640   \n",
      "\n",
      "       articleid      date                                           headline  \\\n",
      "0  wsj_398217788   8/14/91              Yields on CDs Fell in the Latest Week   \n",
      "1  wsj_399019502   8/21/07  The Morning Brief: White House Seeks to Limit ...   \n",
      "2  wsj_398284048  11/14/91  Banking Bill Negotiators Set Compromise --- Pl...   \n",
      "3  wsj_397959018   6/16/86  Manager's Journal: Sniffing Out Drug Abusers I...   \n",
      "4  wsj_398838054   10/4/02  Currency Trading: Dollar Remains in Tight Rang...   \n",
      "\n",
      "   positivity_gold  relevance_gold  \\\n",
      "0              NaN             NaN   \n",
      "1              NaN             NaN   \n",
      "2              NaN             NaN   \n",
      "3              NaN             NaN   \n",
      "4              NaN             NaN   \n",
      "\n",
      "                                                text  \n",
      "0  NEW YORK -- Yields on most certificates of dep...  \n",
      "1  The Wall Street Journal Online</br></br>The Mo...  \n",
      "2  WASHINGTON -- In an effort to achieve banking ...  \n",
      "3  The statistics on the enormous costs of employ...  \n",
      "4  NEW YORK -- Indecision marked the dollar's ton...  \n"
     ]
    }
   ],
   "source": [
    "import pandas as pd\n",
    "df = pd.read_csv('Full-Economic-News-DFE-839861.csv', encoding='ISO-8859-1')\n",
    "\n",
    "# Display the first few rows of the DataFrame\n",
    "print(df.head())"
   ]
  }
 ],
 "metadata": {
  "kernelspec": {
   "display_name": "base",
   "language": "python",
   "name": "python3"
  },
  "language_info": {
   "codemirror_mode": {
    "name": "ipython",
    "version": 3
   },
   "file_extension": ".py",
   "mimetype": "text/x-python",
   "name": "python",
   "nbconvert_exporter": "python",
   "pygments_lexer": "ipython3",
   "version": "3.9.12"
  }
 },
 "nbformat": 4,
 "nbformat_minor": 2
}
