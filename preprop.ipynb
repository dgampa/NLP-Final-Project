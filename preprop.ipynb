{
 "cells": [
  {
   "cell_type": "code",
   "execution_count": 4,
   "metadata": {},
   "outputs": [
    {
     "name": "stdout",
     "output_type": "stream",
     "text": [
      "      positivity relevance                                           headline  \\\n",
      "0            3.0       yes              Yields on CDs Fell in the Latest Week   \n",
      "4            3.0       yes  Currency Trading: Dollar Remains in Tight Rang...   \n",
      "5            3.0       yes               Stocks Fall Again; BofA, Alcoa Slide   \n",
      "9            4.0       yes  U.S. Dollar Falls Against Most Currencies; Dec...   \n",
      "12           4.0       yes               Defending Yourself Against Deflation   \n",
      "...          ...       ...                                                ...   \n",
      "7973         7.0       yes  Housing Starts Grow, Raising Inflation Fears: ...   \n",
      "7974         3.0       yes  Profits Often Evasive In Stock Mart Rallies Gr...   \n",
      "7984         8.0       yes          Salomon Sounds a Wary Note on the Economy   \n",
      "7987         5.0       yes  The Great Terror; A massive new history of Hit...   \n",
      "7995         7.0       yes  Sawyer Sees Strong Economy For 2 Years, Truce ...   \n",
      "\n",
      "                                                   text  \n",
      "0     NEW YORK -- Yields on most certificates of dep...  \n",
      "4     NEW YORK -- Indecision marked the dollar's ton...  \n",
      "5     Stocks declined, as investors weighed slower-t...  \n",
      "9     The U.S. dollar declined against most major fo...  \n",
      "12    Author: James B. Stewart</br></br>The dreaded ...  \n",
      "...                                                 ...  \n",
      "7973  Housing starts surged by 4.4 percent last mont...  \n",
      "7974  When it comes to actually cashing in, stock ma...  \n",
      "7984  Perhaps nothing about the Clinton administrati...  \n",
      "7987  Looking at the enormous -- and incessant -- ti...  \n",
      "7995  Secretary of Commerce Charles W. Sawyer said y...  \n",
      "\n",
      "[1420 rows x 4 columns]\n"
     ]
    }
   ],
   "source": [
    "import pandas as pd\n",
    "\n",
    "# Load the CSV file\n",
    "df = pd.read_csv('Full-Economic-News-DFE-839861.csv', encoding='ISO-8859-1')\n",
    "\n",
    "# Step 1: Keep only the relevant columns\n",
    "df = df[['positivity', 'relevance', 'headline', 'text']]\n",
    "\n",
    "# Step 2: Drop rows where any of the relevant columns have NaN or empty values\n",
    "df_cleaned = df.dropna(subset=['positivity', 'relevance', 'headline', 'text'])\n",
    "\n",
    "# Optionally, remove any rows where the text column is empty or contains only whitespace\n",
    "df_cleaned = df_cleaned[df_cleaned['text'].str.strip().astype(bool)]\n",
    "\n",
    "# Display the cleaned DataFrame\n",
    "print(df_cleaned)\n"
   ]
  }
 ],
 "metadata": {
  "kernelspec": {
   "display_name": "base",
   "language": "python",
   "name": "python3"
  },
  "language_info": {
   "codemirror_mode": {
    "name": "ipython",
    "version": 3
   },
   "file_extension": ".py",
   "mimetype": "text/x-python",
   "name": "python",
   "nbconvert_exporter": "python",
   "pygments_lexer": "ipython3",
   "version": "3.9.12"
  }
 },
 "nbformat": 4,
 "nbformat_minor": 2
}
