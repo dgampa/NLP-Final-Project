{
 "cells": [
  {
   "cell_type": "code",
   "execution_count": 6,
   "metadata": {},
   "outputs": [
    {
     "name": "stdout",
     "output_type": "stream",
     "text": [
      "      positivity sentiment relevance  \\\n",
      "0            3.0  negative       yes   \n",
      "4            3.0  negative       yes   \n",
      "5            3.0  negative       yes   \n",
      "9            4.0   neutral       yes   \n",
      "12           4.0   neutral       yes   \n",
      "...          ...       ...       ...   \n",
      "7973         7.0  positive       yes   \n",
      "7974         3.0  negative       yes   \n",
      "7984         8.0  positive       yes   \n",
      "7987         5.0   neutral       yes   \n",
      "7995         7.0  positive       yes   \n",
      "\n",
      "                                               headline  \\\n",
      "0                 Yields on CDs Fell in the Latest Week   \n",
      "4     Currency Trading: Dollar Remains in Tight Rang...   \n",
      "5                  Stocks Fall Again; BofA, Alcoa Slide   \n",
      "9     U.S. Dollar Falls Against Most Currencies; Dec...   \n",
      "12                 Defending Yourself Against Deflation   \n",
      "...                                                 ...   \n",
      "7973  Housing Starts Grow, Raising Inflation Fears: ...   \n",
      "7974  Profits Often Evasive In Stock Mart Rallies Gr...   \n",
      "7984          Salomon Sounds a Wary Note on the Economy   \n",
      "7987  The Great Terror; A massive new history of Hit...   \n",
      "7995  Sawyer Sees Strong Economy For 2 Years, Truce ...   \n",
      "\n",
      "                                                   text  \n",
      "0     NEW YORK -- Yields on most certificates of dep...  \n",
      "4     NEW YORK -- Indecision marked the dollar's ton...  \n",
      "5     Stocks declined, as investors weighed slower-t...  \n",
      "9     The U.S. dollar declined against most major fo...  \n",
      "12    Author: James B. Stewart</br></br>The dreaded ...  \n",
      "...                                                 ...  \n",
      "7973  Housing starts surged by 4.4 percent last mont...  \n",
      "7974  When it comes to actually cashing in, stock ma...  \n",
      "7984  Perhaps nothing about the Clinton administrati...  \n",
      "7987  Looking at the enormous -- and incessant -- ti...  \n",
      "7995  Secretary of Commerce Charles W. Sawyer said y...  \n",
      "\n",
      "[1420 rows x 5 columns]\n"
     ]
    }
   ],
   "source": [
    "import pandas as pd\n",
    "\n",
    "# Load the CSV file\n",
    "df = pd.read_csv('Full-Economic-News-DFE-839861.csv', encoding='ISO-8859-1')\n",
    "\n",
    "# Step 1: Keep only the relevant columns\n",
    "df = df[['positivity', 'relevance', 'headline', 'text']]\n",
    "\n",
    "# Step 2: Drop rows where any of the relevant columns have NaN or empty values\n",
    "df_cleaned = df.dropna(subset=['positivity', 'relevance', 'headline', 'text'])\n",
    "\n",
    "# Optionally, remove any rows where the text column is empty or contains only whitespace\n",
    "df_cleaned = df_cleaned[df_cleaned['text'].str.strip().astype(bool)]\n",
    "\n",
    "# Step 3: Create a new column 'sentiment' based on the positivity score\n",
    "def categorize_sentiment(positivity):\n",
    "    if 1 <= positivity <= 3:\n",
    "        return 'negative'\n",
    "    elif 4 <= positivity <= 6:\n",
    "        return 'neutral'\n",
    "    elif 7 <= positivity <= 9:\n",
    "        return 'positive'\n",
    "    else:\n",
    "        return None  # In case there are out-of-range values\n",
    "\n",
    "df_cleaned['sentiment'] = df_cleaned['positivity'].apply(categorize_sentiment)\n",
    "\n",
    "# Display the cleaned and categorized DataFrame\n",
    "print(df_cleaned[['positivity', 'sentiment', 'relevance', 'headline', 'text']])\n",
    "\n",
    "\n"
   ]
  }
 ],
 "metadata": {
  "kernelspec": {
   "display_name": "base",
   "language": "python",
   "name": "python3"
  },
  "language_info": {
   "codemirror_mode": {
    "name": "ipython",
    "version": 3
   },
   "file_extension": ".py",
   "mimetype": "text/x-python",
   "name": "python",
   "nbconvert_exporter": "python",
   "pygments_lexer": "ipython3",
   "version": "3.9.12"
  }
 },
 "nbformat": 4,
 "nbformat_minor": 2
}
