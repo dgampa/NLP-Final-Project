{
 "cells": [
  {
   "cell_type": "code",
   "execution_count": 22,
   "metadata": {},
   "outputs": [],
   "source": [
    "import pandas as pd\n",
    "import numpy as np\n",
    "import re\n",
    "from sklearn.feature_extraction.text import TfidfVectorizer\n",
    "from sklearn.linear_model import LogisticRegression\n",
    "from sklearn.model_selection import train_test_split\n",
    "from sklearn.metrics import classification_report, accuracy_score, confusion_matrix, precision_recall_fscore_support\n",
    "import matplotlib.pyplot as plt\n",
    "import seaborn as sns\n"
   ]
  },
  {
   "cell_type": "code",
   "execution_count": 23,
   "metadata": {},
   "outputs": [],
   "source": [
    "df = pd.read_csv('Cleaned_Economic_News_Relabeled.csv')\n",
    "def preprocess_headline(headline):\n",
    "    headline = headline.lower()\n",
    "    headline = re.sub(r'\\b\\d+(\\.\\d+)?\\b', '<NUMBER>', headline)\n",
    "    headline = re.sub(r'\\d+(\\.\\d+)?%', '<PERCENTAGE>', headline)\n",
    "    \n",
    "    headline = re.sub(r'\\$\\d+(\\.\\d+)?', '<CURRENCY>', headline)  \n",
    "    headline = re.sub(r'\\d{1,2}/\\d{1,2}/\\d{2,4}', '<DATE>', headline)  \n",
    "\n",
    "    headline = re.sub(r'[^\\w\\s\\.,!?\\'\":;()-]', '', headline)\n",
    "\n",
    "    headline = re.sub(r'\\s+', ' ', headline).strip()\n",
    "    \n",
    "    return headline"
   ]
  },
  {
   "cell_type": "code",
   "execution_count": 24,
   "metadata": {},
   "outputs": [],
   "source": [
    "df['cleaned_headline'] = df['headline'].apply(preprocess_headline)\n",
    "X = df['cleaned_headline']  \n",
    "y = df['sentiment']  "
   ]
  },
  {
   "cell_type": "code",
   "execution_count": 25,
   "metadata": {},
   "outputs": [],
   "source": [
    "\n",
    "X_train, X_test, y_train, y_test = train_test_split(X, y, test_size=0.2, random_state=42, stratify=y)\n"
   ]
  },
  {
   "cell_type": "code",
   "execution_count": 26,
   "metadata": {},
   "outputs": [],
   "source": [
    "max_features_options = [5000, 10000, 20000]\n",
    "ngram_range_options = [(1, 1), (1, 2), (1, 3)]\n",
    "C_values = [0.1, 1, 10]\n"
   ]
  },
  {
   "cell_type": "code",
   "execution_count": 27,
   "metadata": {},
   "outputs": [
    {
     "name": "stdout",
     "output_type": "stream",
     "text": [
      "Testing max_features=5000, ngram_range=(1, 1), C=0.1\n",
      "Accuracy: 0.4894366197183099\n",
      "\n",
      "Testing max_features=5000, ngram_range=(1, 1), C=1\n",
      "Accuracy: 0.545774647887324\n",
      "\n",
      "Testing max_features=5000, ngram_range=(1, 1), C=10\n",
      "Accuracy: 0.5316901408450704\n",
      "\n",
      "Testing max_features=5000, ngram_range=(1, 2), C=0.1\n",
      "Accuracy: 0.4823943661971831\n",
      "\n",
      "Testing max_features=5000, ngram_range=(1, 2), C=1\n",
      "Accuracy: 0.5352112676056338\n",
      "\n",
      "Testing max_features=5000, ngram_range=(1, 2), C=10\n",
      "Accuracy: 0.5140845070422535\n",
      "\n",
      "Testing max_features=5000, ngram_range=(1, 3), C=0.1\n",
      "Accuracy: 0.4823943661971831\n",
      "\n",
      "Testing max_features=5000, ngram_range=(1, 3), C=1\n",
      "Accuracy: 0.5528169014084507\n",
      "\n",
      "Testing max_features=5000, ngram_range=(1, 3), C=10\n",
      "Accuracy: 0.5\n",
      "\n",
      "Testing max_features=10000, ngram_range=(1, 1), C=0.1\n",
      "Accuracy: 0.4894366197183099\n",
      "\n",
      "Testing max_features=10000, ngram_range=(1, 1), C=1\n",
      "Accuracy: 0.545774647887324\n",
      "\n",
      "Testing max_features=10000, ngram_range=(1, 1), C=10\n",
      "Accuracy: 0.5316901408450704\n",
      "\n",
      "Testing max_features=10000, ngram_range=(1, 2), C=0.1\n",
      "Accuracy: 0.4753521126760563\n",
      "\n",
      "Testing max_features=10000, ngram_range=(1, 2), C=1\n",
      "Accuracy: 0.5492957746478874\n",
      "\n",
      "Testing max_features=10000, ngram_range=(1, 2), C=10\n",
      "Accuracy: 0.5598591549295775\n",
      "\n",
      "Testing max_features=10000, ngram_range=(1, 3), C=0.1\n",
      "Accuracy: 0.4753521126760563\n",
      "\n",
      "Testing max_features=10000, ngram_range=(1, 3), C=1\n",
      "Accuracy: 0.5387323943661971\n",
      "\n",
      "Testing max_features=10000, ngram_range=(1, 3), C=10\n",
      "Accuracy: 0.528169014084507\n",
      "\n",
      "Testing max_features=20000, ngram_range=(1, 1), C=0.1\n",
      "Accuracy: 0.4894366197183099\n",
      "\n",
      "Testing max_features=20000, ngram_range=(1, 1), C=1\n",
      "Accuracy: 0.545774647887324\n",
      "\n",
      "Testing max_features=20000, ngram_range=(1, 1), C=10\n",
      "Accuracy: 0.5316901408450704\n",
      "\n",
      "Testing max_features=20000, ngram_range=(1, 2), C=0.1\n",
      "Accuracy: 0.4753521126760563\n",
      "\n",
      "Testing max_features=20000, ngram_range=(1, 2), C=1\n",
      "Accuracy: 0.5492957746478874\n",
      "\n",
      "Testing max_features=20000, ngram_range=(1, 2), C=10\n",
      "Accuracy: 0.5598591549295775\n",
      "\n",
      "Testing max_features=20000, ngram_range=(1, 3), C=0.1\n",
      "Accuracy: 0.4507042253521127\n",
      "\n",
      "Testing max_features=20000, ngram_range=(1, 3), C=1\n",
      "Accuracy: 0.5704225352112676\n",
      "\n",
      "Testing max_features=20000, ngram_range=(1, 3), C=10\n",
      "Accuracy: 0.5528169014084507\n",
      "\n"
     ]
    }
   ],
   "source": [
    "\n",
    "results = []\n",
    "\n",
    "for max_features in max_features_options:\n",
    "    for ngram_range in ngram_range_options:\n",
    "        for C in C_values:\n",
    "            print(f\"Testing max_features={max_features}, ngram_range={ngram_range}, C={C}\")\n",
    "            \n",
    "            # Vectorizer with current hyperparameters\n",
    "            vectorizer = TfidfVectorizer(max_features=max_features, ngram_range=ngram_range, stop_words='english')\n",
    "            X_train_tfidf = vectorizer.fit_transform(X_train)\n",
    "            X_test_tfidf = vectorizer.transform(X_test)\n",
    "            \n",
    "            # Logistic Regression with current hyperparameters\n",
    "            model = LogisticRegression(max_iter=5000, random_state=42, C=C)\n",
    "            model.fit(X_train_tfidf, y_train)\n",
    "            y_pred = model.predict(X_test_tfidf)\n",
    "            \n",
    "            # Accuracy calculation\n",
    "            acc = accuracy_score(y_test, y_pred)\n",
    "            print(f\"Accuracy: {acc}\\n\")\n",
    "            \n",
    "            # Store results\n",
    "            results.append({\n",
    "                'max_features': max_features,\n",
    "                'ngram_range': ngram_range,\n",
    "                'C': C,\n",
    "                'accuracy': acc\n",
    "            })\n",
    "\n",
    "# Convert results to a DataFrame for analysis\n",
    "results_df = pd.DataFrame(results)\n",
    "results_df.sort_values(by='accuracy', ascending=False, inplace=True)"
   ]
  },
  {
   "cell_type": "code",
   "execution_count": 28,
   "metadata": {},
   "outputs": [
    {
     "name": "stdout",
     "output_type": "stream",
     "text": [
      "Top Hyperparameter Results:\n",
      "    max_features ngram_range     C  accuracy\n",
      "25         20000      (1, 3)   1.0  0.570423\n",
      "23         20000      (1, 2)  10.0  0.559859\n",
      "14         10000      (1, 2)  10.0  0.559859\n",
      "26         20000      (1, 3)  10.0  0.552817\n",
      "7           5000      (1, 3)   1.0  0.552817\n",
      "Best Parameters: max_features       20000\n",
      "ngram_range       (1, 3)\n",
      "C                    1.0\n",
      "accuracy        0.570423\n",
      "Name: 25, dtype: object\n"
     ]
    }
   ],
   "source": [
    "print(\"Top Hyperparameter Results:\")\n",
    "print(results_df.head())\n",
    "\n",
    "# Plot confusion matrix for the best model\n",
    "best_params = results_df.iloc[0]\n",
    "print(\"Best Parameters:\", best_params)"
   ]
  },
  {
   "cell_type": "code",
   "execution_count": 29,
   "metadata": {},
   "outputs": [],
   "source": [
    "vectorizer = TfidfVectorizer(max_features=int(best_params['max_features']), \n",
    "                             ngram_range=best_params['ngram_range'], \n",
    "                             stop_words='english')\n",
    "X_train_tfidf = vectorizer.fit_transform(X_train)\n",
    "X_test_tfidf = vectorizer.transform(X_test)"
   ]
  },
  {
   "cell_type": "markdown",
   "metadata": {},
   "source": []
  },
  {
   "cell_type": "code",
   "execution_count": 30,
   "metadata": {},
   "outputs": [
    {
     "data": {
      "text/plain": [
       "LogisticRegression(max_iter=5000, random_state=42)"
      ]
     },
     "execution_count": 30,
     "metadata": {},
     "output_type": "execute_result"
    }
   ],
   "source": [
    "model = LogisticRegression(max_iter=5000, random_state=42)\n",
    "model.fit(X_train_tfidf, y_train)\n"
   ]
  },
  {
   "cell_type": "code",
   "execution_count": 31,
   "metadata": {},
   "outputs": [
    {
     "name": "stdout",
     "output_type": "stream",
     "text": [
      "\n",
      "Overall Metrics:\n",
      "Accuracy: 0.5704\n",
      "Precision: 0.6490\n",
      "Recall: 0.5704\n",
      "F1 Score: 0.5611\n",
      "\n",
      "Classification Report:\n",
      "               precision    recall  f1-score   support\n",
      "\n",
      "          -1       0.51      0.75      0.61       110\n",
      "           0       0.94      0.35      0.50        84\n",
      "           1       0.55      0.57      0.56        90\n",
      "\n",
      "    accuracy                           0.57       284\n",
      "   macro avg       0.67      0.55      0.56       284\n",
      "weighted avg       0.65      0.57      0.56       284\n",
      "\n"
     ]
    }
   ],
   "source": [
    "y_pred = model.predict(X_test_tfidf)\n",
    "\n",
    "accuracy = accuracy_score(y_test, y_pred)\n",
    "precision, recall, f1, _ = precision_recall_fscore_support(y_test, y_pred, average='weighted')\n",
    "\n",
    "print(\"\\nOverall Metrics:\")\n",
    "print(f\"Accuracy: {accuracy:.4f}\")\n",
    "print(f\"Precision: {precision:.4f}\")\n",
    "print(f\"Recall: {recall:.4f}\")\n",
    "print(f\"F1 Score: {f1:.4f}\")\n",
    "\n",
    "print(\"\\nClassification Report:\\n\", classification_report(y_test, y_pred))\n"
   ]
  },
  {
   "cell_type": "code",
   "execution_count": 32,
   "metadata": {},
   "outputs": [
    {
     "data": {
      "image/png": "[encoded data removed]",
      "text/plain": [
       "<Figure size 576x432 with 2 Axes>"
      ]
     },
     "metadata": {
      "needs_background": "light"
     },
     "output_type": "display_data"
    }
   ],
   "source": [
    "\n",
    "conf_matrix = confusion_matrix(y_test, y_pred, labels=[-1, 0, 1])\n",
    "plt.figure(figsize=(8, 6))\n",
    "sns.heatmap(conf_matrix, annot=True, fmt='d', cmap='Blues', \n",
    "            xticklabels=['negative', 'neutral', 'positive'],\n",
    "            yticklabels=['negative', 'neutral', 'positive'])\n",
    "plt.title('Confusion Matrix')\n",
    "plt.xlabel('Predicted Labels')\n",
    "plt.ylabel('True Labels')\n",
    "plt.tight_layout()\n",
    "plt.show()\n"
   ]
  }
 ],
 "metadata": {
  "kernelspec": {
   "display_name": "Python 3",
   "language": "python",
   "name": "python3"
  },
  "language_info": {
   "codemirror_mode": {
    "name": "ipython",
    "version": 3
   },
   "file_extension": ".py",
   "mimetype": "text/x-python",
   "name": "python",
   "nbconvert_exporter": "python",
   "pygments_lexer": "ipython3",
   "version": "3.9.6"
  },
  "orig_nbformat": 4,
  "vscode": {
   "interpreter": {
    "hash": "aee8b7b246df8f9039afb4144a1f6fd8d2ca17a180786b69acc140d282b71a49"
   }
  }
 },
 "nbformat": 4,
 "nbformat_minor": 2
}
