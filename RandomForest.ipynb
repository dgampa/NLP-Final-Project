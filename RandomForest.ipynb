{
 "cells": [
  {
   "cell_type": "code",
   "execution_count": 99,
   "metadata": {},
   "outputs": [
    {
     "name": "stdout",
     "output_type": "stream",
     "text": [
      "Collecting imbalanced-learn\n",
      "  Downloading imbalanced_learn-0.12.4-py3-none-any.whl.metadata (8.3 kB)\n",
      "Requirement already satisfied: numpy>=1.17.3 in /Users/dhritigampa/opt/anaconda3/lib/python3.9/site-packages (from imbalanced-learn) (1.26.4)\n",
      "Requirement already satisfied: scipy>=1.5.0 in /Users/dhritigampa/opt/anaconda3/lib/python3.9/site-packages (from imbalanced-learn) (1.13.1)\n",
      "Requirement already satisfied: scikit-learn>=1.0.2 in /Users/dhritigampa/opt/anaconda3/lib/python3.9/site-packages (from imbalanced-learn) (1.0.2)\n",
      "Collecting joblib>=1.1.1 (from imbalanced-learn)\n",
      "  Downloading joblib-1.4.2-py3-none-any.whl.metadata (5.4 kB)\n",
      "Requirement already satisfied: threadpoolctl>=2.0.0 in /Users/dhritigampa/opt/anaconda3/lib/python3.9/site-packages (from imbalanced-learn) (2.2.0)\n",
      "Downloading imbalanced_learn-0.12.4-py3-none-any.whl (258 kB)\n",
      "Downloading joblib-1.4.2-py3-none-any.whl (301 kB)\n",
      "Installing collected packages: joblib, imbalanced-learn\n",
      "  Attempting uninstall: joblib\n",
      "    Found existing installation: joblib 1.1.0\n",
      "    Uninstalling joblib-1.1.0:\n",
      "      Successfully uninstalled joblib-1.1.0\n",
      "Successfully installed imbalanced-learn-0.12.4 joblib-1.4.2\n",
      "Note: you may need to restart the kernel to use updated packages.\n"
     ]
    }
   ],
   "source": [
    "pip install imbalanced-learn"
   ]
  },
  {
   "cell_type": "code",
   "execution_count": 73,
   "metadata": {},
   "outputs": [
    {
     "name": "stderr",
     "output_type": "stream",
     "text": [
      "[nltk_data] Downloading package omw-1.4 to\n",
      "[nltk_data]     /Users/dhritigampa/nltk_data...\n",
      "[nltk_data]   Package omw-1.4 is already up-to-date!\n"
     ]
    },
    {
     "data": {
      "text/plain": [
       "True"
      ]
     },
     "execution_count": 73,
     "metadata": {},
     "output_type": "execute_result"
    }
   ],
   "source": [
    "import nltk\n",
    "nltk.download('omw-1.4')\n"
   ]
  },
  {
   "cell_type": "code",
   "execution_count": 106,
   "metadata": {},
   "outputs": [
    {
     "name": "stderr",
     "output_type": "stream",
     "text": [
      "[nltk_data] Downloading package punkt to\n",
      "[nltk_data]     /Users/dhritigampa/nltk_data...\n",
      "[nltk_data]   Package punkt is already up-to-date!\n",
      "[nltk_data] Downloading package stopwords to\n",
      "[nltk_data]     /Users/dhritigampa/nltk_data...\n",
      "[nltk_data]   Package stopwords is already up-to-date!\n",
      "[nltk_data] Downloading package wordnet to\n",
      "[nltk_data]     /Users/dhritigampa/nltk_data...\n",
      "[nltk_data]   Package wordnet is already up-to-date!\n"
     ]
    },
    {
     "data": {
      "text/plain": [
       "True"
      ]
     },
     "execution_count": 106,
     "metadata": {},
     "output_type": "execute_result"
    }
   ],
   "source": [
    "import pandas as pd\n",
    "import numpy as np\n",
    "import matplotlib.pyplot as plt\n",
    "from sklearn.ensemble import RandomForestClassifier\n",
    "from sklearn.model_selection import train_test_split\n",
    "from sklearn.metrics import accuracy_score, classification_report, confusion_matrix\n",
    "import seaborn as sns\n",
    "from gensim.models import KeyedVectors\n",
    "from nltk.tokenize import word_tokenize\n",
    "from nltk.corpus import stopwords\n",
    "from nltk.stem import WordNetLemmatizer\n",
    "import nltk\n",
    "from gensim.models import Word2Vec\n",
    "from imblearn.over_sampling import SMOTE\n",
    "\n",
    "# Download NLTK resources\n",
    "nltk.download('punkt')\n",
    "nltk.download('stopwords')\n",
    "nltk.download('wordnet')"
   ]
  },
  {
   "cell_type": "code",
   "execution_count": null,
   "metadata": {},
   "outputs": [
    {
     "name": "stdout",
     "output_type": "stream",
     "text": [
      "                                            headline  \\\n",
      "0              Yields on CDs Fell in the Latest Week   \n",
      "1  Currency Trading: Dollar Remains in Tight Rang...   \n",
      "2               Stocks Fall Again; BofA, Alcoa Slide   \n",
      "3  U.S. Dollar Falls Against Most Currencies; Dec...   \n",
      "4               Defending Yourself Against Deflation   \n",
      "\n",
      "                                    cleaned_headline  \n",
      "0              yields on cds fell in the latest week  \n",
      "1  currency trading: dollar remains in tight rang...  \n",
      "2               stocks fall again; bofa, alcoa slide  \n",
      "3  u.s. dollar falls against most currencies; dec...  \n",
      "4               defending yourself against deflation  \n"
     ]
    }
   ],
   "source": [
    "import pandas as pd\n",
    "import re\n",
    "\n",
    "# Load the CSV file\n",
    "df = pd.read_csv('Cleaned_Economic_News_Relabeled.csv', encoding='ISO-8859-1')\n",
    "\n",
    "# Step 2: Drop rows where any of the relevant columns have NaN or empty values\n",
    "df_cleaned = df.dropna(subset=['headline', 'sentiment'])\n",
    "\n",
    "# Optionally, remove any rows where the headline column is empty or contains only whitespace\n",
    "df_cleaned = df_cleaned[df_cleaned['headline'].str.strip().astype(bool)]\n",
    "\n",
    "# Step 3: Create a new column 'sentiment' based on the positivity score\n",
    "def categorize_sentiment(positivity):\n",
    "    if positivity == -1:\n",
    "        return 'negative'\n",
    "    elif positivity == 0:\n",
    "        return 'neutral'\n",
    "    elif positivity == 1:\n",
    "        return 'positive'\n",
    "    else:\n",
    "        return None  # In case there are out-of-range values\n",
    "\n",
    "df_cleaned['sentiment'] = df_cleaned['sentiment'].apply(categorize_sentiment)\n",
    "\n",
    "# Step 4: Preprocess the headline\n",
    "def preprocess_headline(headline):\n",
    "    # Convert text to lowercase\n",
    "    headline = headline.lower()\n",
    "    \n",
    "    # Replace numbers with <NUMBER>\n",
    "    headline = re.sub(r'\\b\\d+(\\.\\d+)?\\b', '<NUMBER>', headline)\n",
    "    \n",
    "    # Replace percentages with <PERCENTAGE>\n",
    "    headline = re.sub(r'\\d+(\\.\\d+)?%', '<PERCENTAGE>', headline)\n",
    "    \n",
    "    # Replace other numerical representations (e.g., currency) if necessary\n",
    "    headline = re.sub(r'\\$\\d+(\\.\\d+)?', '<CURRENCY>', headline)  # Replace currency amounts\n",
    "    headline = re.sub(r'\\d{1,2}/\\d{1,2}/\\d{2,4}', '<DATE>', headline)  # Replace dates\n",
    "\n",
    "    # Remove non-alphanumeric characters (except spaces and punctuation)\n",
    "    headline = re.sub(r'[^\\w\\s\\.,!?\\'\":;()-]', '', headline)\n",
    "\n",
    "    # Optional: Remove excessive whitespace\n",
    "    headline = re.sub(r'\\s+', ' ', headline).strip()\n",
    "    \n",
    "    return headline\n",
    "\n",
    "# Apply preprocessing to the 'headline' column only\n",
    "df_cleaned['cleaned_headline'] = df_cleaned['headline'].apply(preprocess_headline)\n",
    "\n",
    "# Step 5: Check the cleaned data (only showing headlines here)\n",
    "print(df_cleaned[['headline', 'cleaned_headline']].head())\n"
   ]
  },
  {
   "cell_type": "code",
   "execution_count": 132,
   "metadata": {},
   "outputs": [
    {
     "name": "stdout",
     "output_type": "stream",
     "text": [
      "neutral     418\n",
      "negative    418\n",
      "positive    418\n",
      "Name: sentiment, dtype: int64\n"
     ]
    },
    {
     "data": {
      "image/png": "[encoded data removed]",
      "text/plain": [
       "<Figure size 576x576 with 1 Axes>"
      ]
     },
     "metadata": {},
     "output_type": "display_data"
    }
   ],
   "source": [
    "# Get the counts of each sentiment class\n",
    "class_counts = df_cleaned['sentiment'].value_counts()\n",
    "\n",
    "target_count = class_counts.min()\n",
    "df_neutral = df_cleaned[df_cleaned['sentiment'] == 'neutral'].sample(target_count, random_state=42)\n",
    "df_pos = df_cleaned[df_cleaned['sentiment'] == 'positive'].sample(target_count, random_state=42)\n",
    "df_neg = df_cleaned[df_cleaned['sentiment'] == 'negative'].sample(target_count, random_state=42)\n",
    "\n",
    "df_balanced = pd.concat([df_neg, df_pos,\n",
    "                         df_neutral])\n",
    "\n",
    "df_balanced = df_balanced.sample(frac=1, random_state=42).reset_index(drop=True)\n",
    "\n",
    "# Count the occurrences of each sentiment\n",
    "sentiment_counts = df_balanced['sentiment'].value_counts()\n",
    "print(sentiment_counts)\n",
    "\n",
    "# Plot the pie chart\n",
    "plt.figure(figsize=(8, 8))\n",
    "plt.pie(sentiment_counts, labels=sentiment_counts.index, autopct='%1.1f%%', startangle=140)\n",
    "plt.title('Sentiment Distribution in df_cleaned')\n",
    "plt.show()"
   ]
  },
  {
   "cell_type": "code",
   "execution_count": 134,
   "metadata": {},
   "outputs": [
    {
     "name": "stdout",
     "output_type": "stream",
     "text": [
      "Test Accuracy: 0.4701\n",
      "Classification Report:\n",
      "              precision    recall  f1-score   support\n",
      "\n",
      "    negative       0.39      0.35      0.37        83\n",
      "     neutral       0.62      0.48      0.54        84\n",
      "    positive       0.44      0.58      0.50        84\n",
      "\n",
      "    accuracy                           0.47       251\n",
      "   macro avg       0.48      0.47      0.47       251\n",
      "weighted avg       0.48      0.47      0.47       251\n",
      "\n"
     ]
    },
    {
     "data": {
      "image/png": "[encoded data removed]",
      "text/plain": [
       "<Figure size 576x432 with 2 Axes>"
      ]
     },
     "metadata": {
      "needs_background": "light"
     },
     "output_type": "display_data"
    }
   ],
   "source": [
    "# Preprocess headlines\n",
    "lemmatizer = WordNetLemmatizer()\n",
    "stop_words = set(stopwords.words('english'))\n",
    "\n",
    "def preprocess_text(text):\n",
    "    tokens = word_tokenize(text)\n",
    "    tokens = [lemmatizer.lemmatize(word) for word in tokens if word.isalpha() and word not in stop_words]\n",
    "    return tokens\n",
    "\n",
    "df_balanced['processed_headline'] = df_balanced['cleaned_headline'].apply(preprocess_text)\n",
    "\n",
    "# Train Word2Vec model on the processed headlines\n",
    "word2vec_model = Word2Vec(\n",
    "    sentences=df_balanced['processed_headline'],\n",
    "    vector_size=200,  # Dimension of the word vectors\n",
    "    window=5,         # Context window size\n",
    "    min_count=1,      # Minimum frequency for words to be included\n",
    "    sg=1,             # Skip-gram model\n",
    "    epochs=10,        # Number of training epochs\n",
    "    workers=4         # Use multiple threads\n",
    ")\n",
    "\n",
    "\n",
    "# Generate headline embeddings by averaging word vectors\n",
    "def get_embedding(tokens, model):\n",
    "    vectors = [model.wv[word] for word in tokens if word in model.wv]\n",
    "    return np.mean(vectors, axis=0) if vectors else np.zeros(model.vector_size)\n",
    "\n",
    "df_balanced['headline_vector'] = df_balanced['processed_headline'].apply(lambda tokens: get_embedding(tokens, word2vec_model))\n",
    "\n",
    "# Prepare data for training\n",
    "X = np.vstack(df_balanced['headline_vector'].values)\n",
    "y = df_balanced['sentiment']\n",
    "\n",
    "# Split data into train and test sets\n",
    "X_train, X_test, y_train, y_test = train_test_split(X, y, test_size=0.2, random_state=42, stratify=y)\n",
    "\n",
    "# Train Random Forest Classifier\n",
    "rf_model = RandomForestClassifier(n_estimators=200, max_depth=10, random_state=42, class_weight='balanced')\n",
    "rf_model.fit(X_train, y_train)\n",
    "\n",
    "# Make predictions\n",
    "y_pred = rf_model.predict(X_test)\n",
    "\n",
    "# Evaluate the model\n",
    "print(f\"Test Accuracy: {accuracy_score(y_test, y_pred):.4f}\")\n",
    "print(\"Classification Report:\")\n",
    "print(classification_report(y_test, y_pred))\n",
    "\n",
    "# Confusion Matrix\n",
    "cm = confusion_matrix(y_test, y_pred)\n",
    "plt.figure(figsize=(8, 6))\n",
    "sns.heatmap(cm, annot=True, fmt='d', cmap='Blues', xticklabels=rf_model.classes_, yticklabels=rf_model.classes_)\n",
    "plt.title('Confusion Matrix')\n",
    "plt.xlabel('Predicted Labels')\n",
    "plt.ylabel('True Labels')\n",
    "plt.show()"
   ]
  }
 ],
 "metadata": {
  "kernelspec": {
   "display_name": "base",
   "language": "python",
   "name": "python3"
  },
  "language_info": {
   "codemirror_mode": {
    "name": "ipython",
    "version": 3
   },
   "file_extension": ".py",
   "mimetype": "text/x-python",
   "name": "python",
   "nbconvert_exporter": "python",
   "pygments_lexer": "ipython3",
   "version": "3.9.12"
  }
 },
 "nbformat": 4,
 "nbformat_minor": 2
}
